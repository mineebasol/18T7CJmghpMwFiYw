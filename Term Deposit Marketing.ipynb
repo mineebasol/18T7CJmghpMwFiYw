{
 "cells": [
  {
   "cell_type": "markdown",
   "metadata": {},
   "source": [
    "# Term Deposit Marketing"
   ]
  },
  {
   "cell_type": "markdown",
   "metadata": {},
   "source": [
    "**[0. Business Understanding](#business)**\n",
    "\n",
    "**[1. Data Understanding](#understanding)**\n",
    "- [1.1. General Information](#information)\n",
    "\n",
    "**[2. Data Preprocessing](#preprocessing)**\n",
    "- [2.1. Missing Values (Filling Missing Values)](#missing)\n",
    "- [2.2. Feature Engineering (One Hot Encoding)](#feature)\n",
    "- [2.3. Feature Scaling (Normalization)](#scaling)\n",
    "- [2.4. Upsampling](#upsampling)\n",
    "\n",
    "**[3. Modeling (Linear, Non-Linear Modeling and Tuning)](#modeling)**\n",
    "- [3.1. Base Models](#base)\n",
    "- [3.2. Comparison of Final Models](#compare)\n",
    "\n",
    "**[4. Reporting](#reporting)**\n",
    "\n",
    "**[5. Resources](#resources)**"
   ]
  },
  {
   "cell_type": "markdown",
   "metadata": {},
   "source": [
    "<a id= \"business\"></a>\n",
    "# 0. Business Understanding"
   ]
  },
  {
   "cell_type": "markdown",
   "metadata": {},
   "source": [
    "The data comes from direct marketing efforts of a European banking institution. The marketing campaign involves making a phone call to a customer, often multiple times to ensure a product subscription, in this case a term deposit. Term deposits are usually short-term deposits with maturities ranging from one month to a few years. The customer must understand when buying a term deposit that they can withdraw their funds only after the term ends. All customer information that might reveal personal information is removed due to privacy concerns.\n",
    "\n",
    "#### Goal\n",
    "\n",
    "- Predict if the customer will subscribe (yes/no) to a term deposit (variable y)\n",
    "\n",
    "#### Success Metric(s):\n",
    "\n",
    "- Hit %81 or above accuracy by evaluating with 5-fold cross validation and reporting the average performance score.\n",
    "\n",
    "#### Bonus(es):\n",
    "\n",
    "- We are also interested in finding customers who are more likely to buy the investment product. Determine the segment(s) of customers our client should prioritize.\n",
    "\n",
    "- What makes the customers buy? Tell us which feature we should be focusing more on.\n",
    "\n",
    "#### Features\n",
    "**1. Dependent Variable:**\n",
    "\n",
    "- **y :** has the client subscribed to a term deposit? (categorical: 'no','yes')\n",
    "\n",
    "\n",
    "**2. Independent Variables:**\n",
    "\n",
    "- **age:** age of customer (numeric)\n",
    "\n",
    "- **job:** type of job (categorical: 'admin','blue-collar','entrepreneur','housemaid','management','retired','self-employed','services','student','technician','unemployed','unknown')\n",
    "\n",
    "- **marital:** marital status (categorical: 'divorced','married','single')\n",
    "\n",
    "- **education:** (categorical: 'primary', 'secondary', 'tertiary', 'unknown')\n",
    "\n",
    "- **default:** has credit in default? (categorical: 'no','yes')\n",
    "\n",
    "- **balance:** average yearly balance, in euros (numeric) \n",
    "\n",
    "- **housing:** has a housing loan? (categorical: 'no','yes')\n",
    "\n",
    "- **loan:** has personal loan? (categorical: 'no','yes')\n",
    "\n",
    "- **contact:** contact communication type (categorical: 'cellular','telephone','unknown')\n",
    "\n",
    "- **day:** last contact day of the month (numeric)\n",
    "    \n",
    "- **month:** last contact month of year (categorical: 'jan','feb','mar',.. , 'nov','dec')\n",
    "\n",
    "- **duration:** last contact duration, in seconds (numeric)\n",
    "\n",
    "- **campaign:** number of contacts performed during this campaign and for this client (numeric, includes last contact)"
   ]
  },
  {
   "cell_type": "markdown",
   "metadata": {},
   "source": [
    "<a id=\"understanding\"></a>\n",
    "# 1. Data Understanding (EDA)"
   ]
  },
  {
   "cell_type": "code",
   "execution_count": 123,
   "metadata": {},
   "outputs": [],
   "source": [
    "import pandas as pd\n",
    "import numpy as np\n",
    "import matplotlib.pyplot as plt\n",
    "import seaborn as sns\n",
    "\n",
    "from sklearn.metrics import mean_squared_error\n",
    "from sklearn.metrics import mean_absolute_error\n",
    "from sklearn import preprocessing \n",
    "from sklearn.model_selection import train_test_split\n",
    "from sklearn.utils import resample\n",
    "from sklearn.linear_model import LogisticRegression\n",
    "from sklearn.ensemble import RandomForestClassifier\n",
    "from sklearn.neighbors import KNeighborsClassifier\n",
    "from sklearn.metrics import accuracy_score\n",
    "from sklearn.metrics import confusion_matrix as cm\n",
    "from sklearn.metrics import classification_report\n",
    "from sklearn.model_selection import cross_val_score\n",
    "from sklearn.feature_selection import RFE\n",
    "import statsmodels.api as sm\n",
    "from sklearn.metrics import cohen_kappa_score\n",
    "from sklearn.metrics import matthews_corrcoef\n",
    "from IPython.display import Image\n",
    "\n",
    "\n",
    "import warnings\n",
    "warnings.simplefilter(action = \"ignore\") \n",
    "\n",
    "pd.set_option('display.max_columns', None); pd.set_option('display.max_rows', None);\n",
    "pd.set_option('display.float_format', lambda x: '%.0f' % x)"
   ]
  },
  {
   "cell_type": "code",
   "execution_count": 124,
   "metadata": {},
   "outputs": [
    {
     "data": {
      "text/html": [
       "<div>\n",
       "<style scoped>\n",
       "    .dataframe tbody tr th:only-of-type {\n",
       "        vertical-align: middle;\n",
       "    }\n",
       "\n",
       "    .dataframe tbody tr th {\n",
       "        vertical-align: top;\n",
       "    }\n",
       "\n",
       "    .dataframe thead th {\n",
       "        text-align: right;\n",
       "    }\n",
       "</style>\n",
       "<table border=\"1\" class=\"dataframe\">\n",
       "  <thead>\n",
       "    <tr style=\"text-align: right;\">\n",
       "      <th></th>\n",
       "      <th>age</th>\n",
       "      <th>job</th>\n",
       "      <th>marital</th>\n",
       "      <th>education</th>\n",
       "      <th>default</th>\n",
       "      <th>balance</th>\n",
       "      <th>housing</th>\n",
       "      <th>loan</th>\n",
       "      <th>contact</th>\n",
       "      <th>day</th>\n",
       "      <th>month</th>\n",
       "      <th>duration</th>\n",
       "      <th>campaign</th>\n",
       "      <th>y</th>\n",
       "    </tr>\n",
       "  </thead>\n",
       "  <tbody>\n",
       "    <tr>\n",
       "      <td>0</td>\n",
       "      <td>58</td>\n",
       "      <td>management</td>\n",
       "      <td>married</td>\n",
       "      <td>tertiary</td>\n",
       "      <td>no</td>\n",
       "      <td>2143</td>\n",
       "      <td>yes</td>\n",
       "      <td>no</td>\n",
       "      <td>unknown</td>\n",
       "      <td>5</td>\n",
       "      <td>may</td>\n",
       "      <td>261</td>\n",
       "      <td>1</td>\n",
       "      <td>no</td>\n",
       "    </tr>\n",
       "    <tr>\n",
       "      <td>1</td>\n",
       "      <td>44</td>\n",
       "      <td>technician</td>\n",
       "      <td>single</td>\n",
       "      <td>secondary</td>\n",
       "      <td>no</td>\n",
       "      <td>29</td>\n",
       "      <td>yes</td>\n",
       "      <td>no</td>\n",
       "      <td>unknown</td>\n",
       "      <td>5</td>\n",
       "      <td>may</td>\n",
       "      <td>151</td>\n",
       "      <td>1</td>\n",
       "      <td>no</td>\n",
       "    </tr>\n",
       "    <tr>\n",
       "      <td>2</td>\n",
       "      <td>33</td>\n",
       "      <td>entrepreneur</td>\n",
       "      <td>married</td>\n",
       "      <td>secondary</td>\n",
       "      <td>no</td>\n",
       "      <td>2</td>\n",
       "      <td>yes</td>\n",
       "      <td>yes</td>\n",
       "      <td>unknown</td>\n",
       "      <td>5</td>\n",
       "      <td>may</td>\n",
       "      <td>76</td>\n",
       "      <td>1</td>\n",
       "      <td>no</td>\n",
       "    </tr>\n",
       "    <tr>\n",
       "      <td>3</td>\n",
       "      <td>47</td>\n",
       "      <td>blue-collar</td>\n",
       "      <td>married</td>\n",
       "      <td>unknown</td>\n",
       "      <td>no</td>\n",
       "      <td>1506</td>\n",
       "      <td>yes</td>\n",
       "      <td>no</td>\n",
       "      <td>unknown</td>\n",
       "      <td>5</td>\n",
       "      <td>may</td>\n",
       "      <td>92</td>\n",
       "      <td>1</td>\n",
       "      <td>no</td>\n",
       "    </tr>\n",
       "    <tr>\n",
       "      <td>4</td>\n",
       "      <td>33</td>\n",
       "      <td>unknown</td>\n",
       "      <td>single</td>\n",
       "      <td>unknown</td>\n",
       "      <td>no</td>\n",
       "      <td>1</td>\n",
       "      <td>no</td>\n",
       "      <td>no</td>\n",
       "      <td>unknown</td>\n",
       "      <td>5</td>\n",
       "      <td>may</td>\n",
       "      <td>198</td>\n",
       "      <td>1</td>\n",
       "      <td>no</td>\n",
       "    </tr>\n",
       "  </tbody>\n",
       "</table>\n",
       "</div>"
      ],
      "text/plain": [
       "   age           job  marital  education default  balance housing loan  \\\n",
       "0   58    management  married   tertiary      no     2143     yes   no   \n",
       "1   44    technician   single  secondary      no       29     yes   no   \n",
       "2   33  entrepreneur  married  secondary      no        2     yes  yes   \n",
       "3   47   blue-collar  married    unknown      no     1506     yes   no   \n",
       "4   33       unknown   single    unknown      no        1      no   no   \n",
       "\n",
       "   contact  day month  duration  campaign   y  \n",
       "0  unknown    5   may       261         1  no  \n",
       "1  unknown    5   may       151         1  no  \n",
       "2  unknown    5   may        76         1  no  \n",
       "3  unknown    5   may        92         1  no  \n",
       "4  unknown    5   may       198         1  no  "
      ]
     },
     "execution_count": 124,
     "metadata": {},
     "output_type": "execute_result"
    }
   ],
   "source": [
    "data = pd.read_csv(\"term-deposit-marketing-2020.csv\")\n",
    "df = data.copy()\n",
    "df.head()"
   ]
  },
  {
   "cell_type": "markdown",
   "metadata": {},
   "source": [
    "<a id= \"information\"></a>\n",
    "## 1.1. General Information"
   ]
  },
  {
   "cell_type": "code",
   "execution_count": 3,
   "metadata": {},
   "outputs": [
    {
     "name": "stdout",
     "output_type": "stream",
     "text": [
      "<class 'pandas.core.frame.DataFrame'>\n",
      "RangeIndex: 40000 entries, 0 to 39999\n",
      "Data columns (total 14 columns):\n",
      "age          40000 non-null int64\n",
      "job          40000 non-null object\n",
      "marital      40000 non-null object\n",
      "education    40000 non-null object\n",
      "default      40000 non-null object\n",
      "balance      40000 non-null int64\n",
      "housing      40000 non-null object\n",
      "loan         40000 non-null object\n",
      "contact      40000 non-null object\n",
      "day          40000 non-null int64\n",
      "month        40000 non-null object\n",
      "duration     40000 non-null int64\n",
      "campaign     40000 non-null int64\n",
      "y            40000 non-null object\n",
      "dtypes: int64(5), object(9)\n",
      "memory usage: 4.3+ MB\n"
     ]
    }
   ],
   "source": [
    "df.info()"
   ]
  },
  {
   "cell_type": "code",
   "execution_count": 4,
   "metadata": {},
   "outputs": [
    {
     "data": {
      "text/plain": [
       "(40000, 14)"
      ]
     },
     "execution_count": 4,
     "metadata": {},
     "output_type": "execute_result"
    }
   ],
   "source": [
    "df.shape"
   ]
  },
  {
   "cell_type": "code",
   "execution_count": 5,
   "metadata": {},
   "outputs": [
    {
     "data": {
      "text/html": [
       "<div>\n",
       "<style scoped>\n",
       "    .dataframe tbody tr th:only-of-type {\n",
       "        vertical-align: middle;\n",
       "    }\n",
       "\n",
       "    .dataframe tbody tr th {\n",
       "        vertical-align: top;\n",
       "    }\n",
       "\n",
       "    .dataframe thead th {\n",
       "        text-align: right;\n",
       "    }\n",
       "</style>\n",
       "<table border=\"1\" class=\"dataframe\">\n",
       "  <thead>\n",
       "    <tr style=\"text-align: right;\">\n",
       "      <th></th>\n",
       "      <th>count</th>\n",
       "      <th>mean</th>\n",
       "      <th>std</th>\n",
       "      <th>min</th>\n",
       "      <th>1%</th>\n",
       "      <th>5%</th>\n",
       "      <th>10%</th>\n",
       "      <th>25%</th>\n",
       "      <th>50%</th>\n",
       "      <th>75%</th>\n",
       "      <th>90%</th>\n",
       "      <th>95%</th>\n",
       "      <th>99%</th>\n",
       "      <th>max</th>\n",
       "    </tr>\n",
       "  </thead>\n",
       "  <tbody>\n",
       "    <tr>\n",
       "      <td>age</td>\n",
       "      <td>40000</td>\n",
       "      <td>41</td>\n",
       "      <td>10</td>\n",
       "      <td>19</td>\n",
       "      <td>24</td>\n",
       "      <td>27</td>\n",
       "      <td>29</td>\n",
       "      <td>33</td>\n",
       "      <td>39</td>\n",
       "      <td>48</td>\n",
       "      <td>55</td>\n",
       "      <td>58</td>\n",
       "      <td>60</td>\n",
       "      <td>95</td>\n",
       "    </tr>\n",
       "    <tr>\n",
       "      <td>balance</td>\n",
       "      <td>40000</td>\n",
       "      <td>1274</td>\n",
       "      <td>2904</td>\n",
       "      <td>-8019</td>\n",
       "      <td>-672</td>\n",
       "      <td>-209</td>\n",
       "      <td>0</td>\n",
       "      <td>54</td>\n",
       "      <td>407</td>\n",
       "      <td>1319</td>\n",
       "      <td>3379</td>\n",
       "      <td>5517</td>\n",
       "      <td>12857</td>\n",
       "      <td>102127</td>\n",
       "    </tr>\n",
       "    <tr>\n",
       "      <td>day</td>\n",
       "      <td>40000</td>\n",
       "      <td>16</td>\n",
       "      <td>8</td>\n",
       "      <td>1</td>\n",
       "      <td>2</td>\n",
       "      <td>3</td>\n",
       "      <td>5</td>\n",
       "      <td>8</td>\n",
       "      <td>17</td>\n",
       "      <td>21</td>\n",
       "      <td>28</td>\n",
       "      <td>30</td>\n",
       "      <td>31</td>\n",
       "      <td>31</td>\n",
       "    </tr>\n",
       "    <tr>\n",
       "      <td>duration</td>\n",
       "      <td>40000</td>\n",
       "      <td>255</td>\n",
       "      <td>259</td>\n",
       "      <td>0</td>\n",
       "      <td>11</td>\n",
       "      <td>33</td>\n",
       "      <td>56</td>\n",
       "      <td>100</td>\n",
       "      <td>175</td>\n",
       "      <td>313</td>\n",
       "      <td>547</td>\n",
       "      <td>754</td>\n",
       "      <td>1273</td>\n",
       "      <td>4918</td>\n",
       "    </tr>\n",
       "    <tr>\n",
       "      <td>campaign</td>\n",
       "      <td>40000</td>\n",
       "      <td>3</td>\n",
       "      <td>3</td>\n",
       "      <td>1</td>\n",
       "      <td>1</td>\n",
       "      <td>1</td>\n",
       "      <td>1</td>\n",
       "      <td>1</td>\n",
       "      <td>2</td>\n",
       "      <td>3</td>\n",
       "      <td>6</td>\n",
       "      <td>8</td>\n",
       "      <td>17</td>\n",
       "      <td>63</td>\n",
       "    </tr>\n",
       "  </tbody>\n",
       "</table>\n",
       "</div>"
      ],
      "text/plain": [
       "          count  mean  std   min   1%   5%  10%  25%  50%  75%  90%  95%  \\\n",
       "age       40000    41   10    19   24   27   29   33   39   48   55   58   \n",
       "balance   40000  1274 2904 -8019 -672 -209    0   54  407 1319 3379 5517   \n",
       "day       40000    16    8     1    2    3    5    8   17   21   28   30   \n",
       "duration  40000   255  259     0   11   33   56  100  175  313  547  754   \n",
       "campaign  40000     3    3     1    1    1    1    1    2    3    6    8   \n",
       "\n",
       "           99%    max  \n",
       "age         60     95  \n",
       "balance  12857 102127  \n",
       "day         31     31  \n",
       "duration  1273   4918  \n",
       "campaign    17     63  "
      ]
     },
     "execution_count": 5,
     "metadata": {},
     "output_type": "execute_result"
    }
   ],
   "source": [
    "df.describe([0.01, 0.05, 0.10, 0.25, 0.50, 0.75, 0.90, 0.95, 0.99]).T"
   ]
  },
  {
   "cell_type": "markdown",
   "metadata": {},
   "source": [
    "- **Ortalama Age** : 41 yaş (Minimum : 19 yaş ve Maksimum: 95)\n",
    "- **Ortalama Balance** : 1274 buna bağlı olarak standart sapma daha yüksek. Bu nedenle bakiyenin veri kümesinde yoğun bir şekilde dağıldığını anlayabiliriz.\n"
   ]
  },
  {
   "cell_type": "markdown",
   "metadata": {},
   "source": [
    "### Continuous Variables"
   ]
  },
  {
   "cell_type": "code",
   "execution_count": 6,
   "metadata": {},
   "outputs": [
    {
     "name": "stdout",
     "output_type": "stream",
     "text": [
      "Continuous Variables \n",
      "\n",
      "Index(['age', 'balance', 'day', 'duration', 'campaign'], dtype='object')\n"
     ]
    }
   ],
   "source": [
    "print(\"Continuous Variables\",\"\\n\")\n",
    "continous_vars = df.describe().columns\n",
    "print(continous_vars)"
   ]
  },
  {
   "cell_type": "code",
   "execution_count": 7,
   "metadata": {},
   "outputs": [
    {
     "name": "stdout",
     "output_type": "stream",
     "text": [
      "Continuous Variables Visualization \n",
      "\n"
     ]
    },
    {
     "data": {
      "image/png": "[encoded data removed]",
      "text/plain": [
       "<Figure size 1152x1152 with 6 Axes>"
      ]
     },
     "metadata": {
      "needs_background": "light"
     },
     "output_type": "display_data"
    }
   ],
   "source": [
    "print(\"Continuous Variables Visualization\",\"\\n\")\n",
    "df.hist(column=continous_vars,figsize=(16,16))\n",
    "plt.show()"
   ]
  },
  {
   "cell_type": "markdown",
   "metadata": {},
   "source": [
    "### Categorical Variables"
   ]
  },
  {
   "cell_type": "code",
   "execution_count": 8,
   "metadata": {},
   "outputs": [
    {
     "name": "stdout",
     "output_type": "stream",
     "text": [
      "Categorical Variables \n",
      "\n",
      "Index(['job', 'marital', 'education', 'default', 'housing', 'loan', 'contact',\n",
      "       'month', 'y'],\n",
      "      dtype='object')\n"
     ]
    }
   ],
   "source": [
    "print(\"Categorical Variables\",\"\\n\")\n",
    "categorical_vars = df.describe(include=[object]).columns\n",
    "print(categorical_vars)"
   ]
  },
  {
   "cell_type": "code",
   "execution_count": 9,
   "metadata": {},
   "outputs": [
    {
     "name": "stdout",
     "output_type": "stream",
     "text": [
      "Categorical Variables Visualization \n",
      "\n"
     ]
    },
    {
     "data": {
      "image/png": "[encoded data removed]",
      "text/plain": [
       "<Figure size 1152x1152 with 9 Axes>"
      ]
     },
     "metadata": {
      "needs_background": "light"
     },
     "output_type": "display_data"
    }
   ],
   "source": [
    "print(\"Categorical Variables Visualization\",\"\\n\")\n",
    "fig, axes = plt.subplots(3, 3, figsize=(16, 16))\n",
    "plt.subplots_adjust(left=None, bottom=None, right=None, top=None, wspace=0.7, hspace=0.3)\n",
    "for i, ax in enumerate(axes.ravel()):\n",
    "    if i > 10:\n",
    "        ax.set_visible(False)\n",
    "        continue\n",
    "    sns.countplot(y = categorical_vars[i], data=df, ax=ax)\n",
    "plt.show()"
   ]
  },
  {
   "cell_type": "code",
   "execution_count": 10,
   "metadata": {},
   "outputs": [
    {
     "data": {
      "text/plain": [
       "job          12\n",
       "marital       3\n",
       "education     4\n",
       "default       2\n",
       "housing       2\n",
       "loan          2\n",
       "contact       3\n",
       "month        11\n",
       "y             2\n",
       "dtype: int64"
      ]
     },
     "execution_count": 10,
     "metadata": {},
     "output_type": "execute_result"
    }
   ],
   "source": [
    "df.select_dtypes('object').apply(pd.Series.nunique, axis = 0) "
   ]
  },
  {
   "cell_type": "markdown",
   "metadata": {},
   "source": [
    "### Correlations"
   ]
  },
  {
   "cell_type": "code",
   "execution_count": 11,
   "metadata": {},
   "outputs": [
    {
     "name": "stdout",
     "output_type": "stream",
     "text": [
      "Correlation Matrix \n",
      "\n"
     ]
    },
    {
     "data": {
      "image/png": "[encoded data removed]",
      "text/plain": [
       "<Figure size 1800x720 with 2 Axes>"
      ]
     },
     "metadata": {
      "needs_background": "light"
     },
     "output_type": "display_data"
    }
   ],
   "source": [
    "#Heat map\n",
    "print(\"Correlation Matrix\",\"\\n\")    \n",
    "correlation=df.corr(method=\"pearson\")\n",
    "plt.figure(figsize=(25,10))\n",
    "sns.heatmap(correlation,vmax=1,square=True,annot=True)\n",
    "plt.show()"
   ]
  },
  {
   "cell_type": "markdown",
   "metadata": {},
   "source": [
    "#### Veri Seti Hakkında Teknik Değerlendirme\n",
    "\n",
    "- Veri seti 40000 örnekten oluşmaktadır.\n",
    "- Eksik veri gözlemlenmemektedir. Girilen tüm veriler boş olmayan değerlerdir, yani her sütun için bir değerimiz vardır.\n",
    "- Sınıflandırma hedefi, müşterinin vadeli depozitoya (değişken y) abone olup olmayacağını (yes / no) tahmin etmektir.\n",
    "- \"job\", \"marital\", \"education\", \"default\", \"housing\", \"loan\", \"contact\", \"month\" ve \"y\" olmak üzere 9 adet kategorik değişken vardır. Bu kategorik değişkenlerin sayısallaştırılması gerekir, olduğu gibi modele sokulamamaktadır. Bir dönüştürme yapılmalıdır(1-0). Bu kategorik değişkenler eğer 2 sınıflı ise **Label Encoding**, 2'den fazla ise **One-Hot Encoding** (2 dahilde olabilir) ile çevrilebilir. Veri setinin kategorik değişken sınıfları 2'den fazla olduğu için One-Hot Encoding yöntemiyle sayısal değere dönüştürülmesi gerekir."
   ]
  },
  {
   "cell_type": "markdown",
   "metadata": {},
   "source": [
    "### Class Distribution of the Target Variable"
   ]
  },
  {
   "cell_type": "code",
   "execution_count": 12,
   "metadata": {},
   "outputs": [
    {
     "data": {
      "text/plain": [
       "no    93\n",
       "yes    7\n",
       "Name: y, dtype: float64"
      ]
     },
     "execution_count": 12,
     "metadata": {},
     "output_type": "execute_result"
    }
   ],
   "source": [
    "df[\"y\"].value_counts()*100/len(df)"
   ]
  },
  {
   "cell_type": "code",
   "execution_count": 13,
   "metadata": {},
   "outputs": [
    {
     "data": {
      "text/plain": [
       "no     37104\n",
       "yes     2896\n",
       "Name: y, dtype: int64"
      ]
     },
     "execution_count": 13,
     "metadata": {},
     "output_type": "execute_result"
    }
   ],
   "source": [
    "df[\"y\"].value_counts()"
   ]
  },
  {
   "cell_type": "code",
   "execution_count": 14,
   "metadata": {},
   "outputs": [
    {
     "data": {
      "image/png": "[encoded data removed]",
      "text/plain": [
       "<Figure size 1296x576 with 2 Axes>"
      ]
     },
     "metadata": {
      "needs_background": "light"
     },
     "output_type": "display_data"
    }
   ],
   "source": [
    "f,ax=plt.subplots(1,2,figsize=(18,8))\n",
    "df['y'].value_counts().plot.pie(explode=[0,0.1],autopct='%1.1f%%',ax=ax[0],shadow=True)\n",
    "ax[0].set_title('target')\n",
    "ax[0].set_ylabel('')\n",
    "sns.countplot('y',data=df,ax=ax[1])\n",
    "ax[1].set_title('y')\n",
    "plt.show()"
   ]
  },
  {
   "cell_type": "markdown",
   "metadata": {},
   "source": [
    "Dengesiz sınıf problemi var. Veri seti \"no\" sınıfı ağırlığındadır. Bunun için Upsampling işlemi gerekmektedir. Çoğunluk sınıfındaki her gözlem için, azınlık sınıfından rastgele bir şekilde değiştirilmiş bir gözlem seçeriz. Sonuç, azınlık ve çoğunluk sınıflarından aynı sayıda gözlemdir."
   ]
  },
  {
   "cell_type": "markdown",
   "metadata": {},
   "source": [
    "<a id=\"preprocessing\"></a>\n",
    "# 2. Data Preprocessing"
   ]
  },
  {
   "cell_type": "markdown",
   "metadata": {},
   "source": [
    "<a id= \"missing\"></a>\n",
    "## 2.1. Missing Values (Filling Missing Values)"
   ]
  },
  {
   "cell_type": "code",
   "execution_count": 15,
   "metadata": {},
   "outputs": [
    {
     "data": {
      "text/plain": [
       "0"
      ]
     },
     "execution_count": 15,
     "metadata": {},
     "output_type": "execute_result"
    }
   ],
   "source": [
    "df.isnull().sum().sum()"
   ]
  },
  {
   "cell_type": "code",
   "execution_count": 16,
   "metadata": {},
   "outputs": [
    {
     "data": {
      "text/plain": [
       "age          0\n",
       "job          0\n",
       "marital      0\n",
       "education    0\n",
       "default      0\n",
       "balance      0\n",
       "housing      0\n",
       "loan         0\n",
       "contact      0\n",
       "day          0\n",
       "month        0\n",
       "duration     0\n",
       "campaign     0\n",
       "y            0\n",
       "dtype: int64"
      ]
     },
     "execution_count": 16,
     "metadata": {},
     "output_type": "execute_result"
    }
   ],
   "source": [
    "df.isnull().sum()"
   ]
  },
  {
   "cell_type": "markdown",
   "metadata": {},
   "source": [
    "#### Dealing with Duplicate values:"
   ]
  },
  {
   "cell_type": "code",
   "execution_count": 18,
   "metadata": {},
   "outputs": [
    {
     "data": {
      "text/html": [
       "<div>\n",
       "<style scoped>\n",
       "    .dataframe tbody tr th:only-of-type {\n",
       "        vertical-align: middle;\n",
       "    }\n",
       "\n",
       "    .dataframe tbody tr th {\n",
       "        vertical-align: top;\n",
       "    }\n",
       "\n",
       "    .dataframe thead th {\n",
       "        text-align: right;\n",
       "    }\n",
       "</style>\n",
       "<table border=\"1\" class=\"dataframe\">\n",
       "  <thead>\n",
       "    <tr style=\"text-align: right;\">\n",
       "      <th></th>\n",
       "      <th>age</th>\n",
       "      <th>job</th>\n",
       "      <th>marital</th>\n",
       "      <th>education</th>\n",
       "      <th>default</th>\n",
       "      <th>balance</th>\n",
       "      <th>housing</th>\n",
       "      <th>loan</th>\n",
       "      <th>contact</th>\n",
       "      <th>day</th>\n",
       "      <th>month</th>\n",
       "      <th>duration</th>\n",
       "      <th>campaign</th>\n",
       "      <th>y</th>\n",
       "    </tr>\n",
       "  </thead>\n",
       "  <tbody>\n",
       "  </tbody>\n",
       "</table>\n",
       "</div>"
      ],
      "text/plain": [
       "Empty DataFrame\n",
       "Columns: [age, job, marital, education, default, balance, housing, loan, contact, day, month, duration, campaign, y]\n",
       "Index: []"
      ]
     },
     "execution_count": 18,
     "metadata": {},
     "output_type": "execute_result"
    }
   ],
   "source": [
    "df_dup = df[df.duplicated(keep = 'last')]\n",
    "df_dup"
   ]
  },
  {
   "cell_type": "markdown",
   "metadata": {},
   "source": [
    "<a id= \"feature\"></a>\n",
    "## 2.2. Feature Engineering (One Hot Encoding)"
   ]
  },
  {
   "cell_type": "markdown",
   "metadata": {},
   "source": [
    "### One-Hot Encoding"
   ]
  },
  {
   "cell_type": "code",
   "execution_count": 19,
   "metadata": {},
   "outputs": [
    {
     "data": {
      "text/html": [
       "<div>\n",
       "<style scoped>\n",
       "    .dataframe tbody tr th:only-of-type {\n",
       "        vertical-align: middle;\n",
       "    }\n",
       "\n",
       "    .dataframe tbody tr th {\n",
       "        vertical-align: top;\n",
       "    }\n",
       "\n",
       "    .dataframe thead th {\n",
       "        text-align: right;\n",
       "    }\n",
       "</style>\n",
       "<table border=\"1\" class=\"dataframe\">\n",
       "  <thead>\n",
       "    <tr style=\"text-align: right;\">\n",
       "      <th></th>\n",
       "      <th>age</th>\n",
       "      <th>balance</th>\n",
       "      <th>day</th>\n",
       "      <th>duration</th>\n",
       "      <th>campaign</th>\n",
       "      <th>job_blue-collar</th>\n",
       "      <th>job_entrepreneur</th>\n",
       "      <th>job_housemaid</th>\n",
       "      <th>job_management</th>\n",
       "      <th>job_retired</th>\n",
       "      <th>job_self-employed</th>\n",
       "      <th>job_services</th>\n",
       "      <th>job_student</th>\n",
       "      <th>job_technician</th>\n",
       "      <th>job_unemployed</th>\n",
       "      <th>job_unknown</th>\n",
       "      <th>marital_married</th>\n",
       "      <th>marital_single</th>\n",
       "      <th>education_secondary</th>\n",
       "      <th>education_tertiary</th>\n",
       "      <th>education_unknown</th>\n",
       "      <th>default_yes</th>\n",
       "      <th>housing_yes</th>\n",
       "      <th>loan_yes</th>\n",
       "      <th>contact_telephone</th>\n",
       "      <th>contact_unknown</th>\n",
       "      <th>month_aug</th>\n",
       "      <th>month_dec</th>\n",
       "      <th>month_feb</th>\n",
       "      <th>month_jan</th>\n",
       "      <th>month_jul</th>\n",
       "      <th>month_jun</th>\n",
       "      <th>month_mar</th>\n",
       "      <th>month_may</th>\n",
       "      <th>month_nov</th>\n",
       "      <th>month_oct</th>\n",
       "      <th>y_yes</th>\n",
       "    </tr>\n",
       "  </thead>\n",
       "  <tbody>\n",
       "    <tr>\n",
       "      <td>0</td>\n",
       "      <td>58</td>\n",
       "      <td>2143</td>\n",
       "      <td>5</td>\n",
       "      <td>261</td>\n",
       "      <td>1</td>\n",
       "      <td>0</td>\n",
       "      <td>0</td>\n",
       "      <td>0</td>\n",
       "      <td>1</td>\n",
       "      <td>0</td>\n",
       "      <td>0</td>\n",
       "      <td>0</td>\n",
       "      <td>0</td>\n",
       "      <td>0</td>\n",
       "      <td>0</td>\n",
       "      <td>0</td>\n",
       "      <td>1</td>\n",
       "      <td>0</td>\n",
       "      <td>0</td>\n",
       "      <td>1</td>\n",
       "      <td>0</td>\n",
       "      <td>0</td>\n",
       "      <td>1</td>\n",
       "      <td>0</td>\n",
       "      <td>0</td>\n",
       "      <td>1</td>\n",
       "      <td>0</td>\n",
       "      <td>0</td>\n",
       "      <td>0</td>\n",
       "      <td>0</td>\n",
       "      <td>0</td>\n",
       "      <td>0</td>\n",
       "      <td>0</td>\n",
       "      <td>1</td>\n",
       "      <td>0</td>\n",
       "      <td>0</td>\n",
       "      <td>0</td>\n",
       "    </tr>\n",
       "    <tr>\n",
       "      <td>1</td>\n",
       "      <td>44</td>\n",
       "      <td>29</td>\n",
       "      <td>5</td>\n",
       "      <td>151</td>\n",
       "      <td>1</td>\n",
       "      <td>0</td>\n",
       "      <td>0</td>\n",
       "      <td>0</td>\n",
       "      <td>0</td>\n",
       "      <td>0</td>\n",
       "      <td>0</td>\n",
       "      <td>0</td>\n",
       "      <td>0</td>\n",
       "      <td>1</td>\n",
       "      <td>0</td>\n",
       "      <td>0</td>\n",
       "      <td>0</td>\n",
       "      <td>1</td>\n",
       "      <td>1</td>\n",
       "      <td>0</td>\n",
       "      <td>0</td>\n",
       "      <td>0</td>\n",
       "      <td>1</td>\n",
       "      <td>0</td>\n",
       "      <td>0</td>\n",
       "      <td>1</td>\n",
       "      <td>0</td>\n",
       "      <td>0</td>\n",
       "      <td>0</td>\n",
       "      <td>0</td>\n",
       "      <td>0</td>\n",
       "      <td>0</td>\n",
       "      <td>0</td>\n",
       "      <td>1</td>\n",
       "      <td>0</td>\n",
       "      <td>0</td>\n",
       "      <td>0</td>\n",
       "    </tr>\n",
       "    <tr>\n",
       "      <td>2</td>\n",
       "      <td>33</td>\n",
       "      <td>2</td>\n",
       "      <td>5</td>\n",
       "      <td>76</td>\n",
       "      <td>1</td>\n",
       "      <td>0</td>\n",
       "      <td>1</td>\n",
       "      <td>0</td>\n",
       "      <td>0</td>\n",
       "      <td>0</td>\n",
       "      <td>0</td>\n",
       "      <td>0</td>\n",
       "      <td>0</td>\n",
       "      <td>0</td>\n",
       "      <td>0</td>\n",
       "      <td>0</td>\n",
       "      <td>1</td>\n",
       "      <td>0</td>\n",
       "      <td>1</td>\n",
       "      <td>0</td>\n",
       "      <td>0</td>\n",
       "      <td>0</td>\n",
       "      <td>1</td>\n",
       "      <td>1</td>\n",
       "      <td>0</td>\n",
       "      <td>1</td>\n",
       "      <td>0</td>\n",
       "      <td>0</td>\n",
       "      <td>0</td>\n",
       "      <td>0</td>\n",
       "      <td>0</td>\n",
       "      <td>0</td>\n",
       "      <td>0</td>\n",
       "      <td>1</td>\n",
       "      <td>0</td>\n",
       "      <td>0</td>\n",
       "      <td>0</td>\n",
       "    </tr>\n",
       "    <tr>\n",
       "      <td>3</td>\n",
       "      <td>47</td>\n",
       "      <td>1506</td>\n",
       "      <td>5</td>\n",
       "      <td>92</td>\n",
       "      <td>1</td>\n",
       "      <td>1</td>\n",
       "      <td>0</td>\n",
       "      <td>0</td>\n",
       "      <td>0</td>\n",
       "      <td>0</td>\n",
       "      <td>0</td>\n",
       "      <td>0</td>\n",
       "      <td>0</td>\n",
       "      <td>0</td>\n",
       "      <td>0</td>\n",
       "      <td>0</td>\n",
       "      <td>1</td>\n",
       "      <td>0</td>\n",
       "      <td>0</td>\n",
       "      <td>0</td>\n",
       "      <td>1</td>\n",
       "      <td>0</td>\n",
       "      <td>1</td>\n",
       "      <td>0</td>\n",
       "      <td>0</td>\n",
       "      <td>1</td>\n",
       "      <td>0</td>\n",
       "      <td>0</td>\n",
       "      <td>0</td>\n",
       "      <td>0</td>\n",
       "      <td>0</td>\n",
       "      <td>0</td>\n",
       "      <td>0</td>\n",
       "      <td>1</td>\n",
       "      <td>0</td>\n",
       "      <td>0</td>\n",
       "      <td>0</td>\n",
       "    </tr>\n",
       "    <tr>\n",
       "      <td>4</td>\n",
       "      <td>33</td>\n",
       "      <td>1</td>\n",
       "      <td>5</td>\n",
       "      <td>198</td>\n",
       "      <td>1</td>\n",
       "      <td>0</td>\n",
       "      <td>0</td>\n",
       "      <td>0</td>\n",
       "      <td>0</td>\n",
       "      <td>0</td>\n",
       "      <td>0</td>\n",
       "      <td>0</td>\n",
       "      <td>0</td>\n",
       "      <td>0</td>\n",
       "      <td>0</td>\n",
       "      <td>1</td>\n",
       "      <td>0</td>\n",
       "      <td>1</td>\n",
       "      <td>0</td>\n",
       "      <td>0</td>\n",
       "      <td>1</td>\n",
       "      <td>0</td>\n",
       "      <td>0</td>\n",
       "      <td>0</td>\n",
       "      <td>0</td>\n",
       "      <td>1</td>\n",
       "      <td>0</td>\n",
       "      <td>0</td>\n",
       "      <td>0</td>\n",
       "      <td>0</td>\n",
       "      <td>0</td>\n",
       "      <td>0</td>\n",
       "      <td>0</td>\n",
       "      <td>1</td>\n",
       "      <td>0</td>\n",
       "      <td>0</td>\n",
       "      <td>0</td>\n",
       "    </tr>\n",
       "  </tbody>\n",
       "</table>\n",
       "</div>"
      ],
      "text/plain": [
       "   age  balance  day  duration  campaign  job_blue-collar  job_entrepreneur  \\\n",
       "0   58     2143    5       261         1                0                 0   \n",
       "1   44       29    5       151         1                0                 0   \n",
       "2   33        2    5        76         1                0                 1   \n",
       "3   47     1506    5        92         1                1                 0   \n",
       "4   33        1    5       198         1                0                 0   \n",
       "\n",
       "   job_housemaid  job_management  job_retired  job_self-employed  \\\n",
       "0              0               1            0                  0   \n",
       "1              0               0            0                  0   \n",
       "2              0               0            0                  0   \n",
       "3              0               0            0                  0   \n",
       "4              0               0            0                  0   \n",
       "\n",
       "   job_services  job_student  job_technician  job_unemployed  job_unknown  \\\n",
       "0             0            0               0               0            0   \n",
       "1             0            0               1               0            0   \n",
       "2             0            0               0               0            0   \n",
       "3             0            0               0               0            0   \n",
       "4             0            0               0               0            1   \n",
       "\n",
       "   marital_married  marital_single  education_secondary  education_tertiary  \\\n",
       "0                1               0                    0                   1   \n",
       "1                0               1                    1                   0   \n",
       "2                1               0                    1                   0   \n",
       "3                1               0                    0                   0   \n",
       "4                0               1                    0                   0   \n",
       "\n",
       "   education_unknown  default_yes  housing_yes  loan_yes  contact_telephone  \\\n",
       "0                  0            0            1         0                  0   \n",
       "1                  0            0            1         0                  0   \n",
       "2                  0            0            1         1                  0   \n",
       "3                  1            0            1         0                  0   \n",
       "4                  1            0            0         0                  0   \n",
       "\n",
       "   contact_unknown  month_aug  month_dec  month_feb  month_jan  month_jul  \\\n",
       "0                1          0          0          0          0          0   \n",
       "1                1          0          0          0          0          0   \n",
       "2                1          0          0          0          0          0   \n",
       "3                1          0          0          0          0          0   \n",
       "4                1          0          0          0          0          0   \n",
       "\n",
       "   month_jun  month_mar  month_may  month_nov  month_oct  y_yes  \n",
       "0          0          0          1          0          0      0  \n",
       "1          0          0          1          0          0      0  \n",
       "2          0          0          1          0          0      0  \n",
       "3          0          0          1          0          0      0  \n",
       "4          0          0          1          0          0      0  "
      ]
     },
     "execution_count": 19,
     "metadata": {},
     "output_type": "execute_result"
    }
   ],
   "source": [
    "columns = df.select_dtypes(include=[object]).columns\n",
    "df = pd.get_dummies(df, columns, drop_first=True)\n",
    "df.head()"
   ]
  },
  {
   "cell_type": "markdown",
   "metadata": {},
   "source": [
    "<a id= \"scaling\"></a>\n",
    "## 2.3. Feature Scaling (Normalization)"
   ]
  },
  {
   "cell_type": "code",
   "execution_count": 19,
   "metadata": {},
   "outputs": [],
   "source": [
    "min_max_scaler=preprocessing.MinMaxScaler()\n",
    "data_scaled=pd.DataFrame(min_max_scaler.fit_transform(df),columns=df.columns)"
   ]
  },
  {
   "cell_type": "code",
   "execution_count": null,
   "metadata": {},
   "outputs": [],
   "source": []
  },
  {
   "cell_type": "code",
   "execution_count": 20,
   "metadata": {},
   "outputs": [],
   "source": [
    "y = data_scaled.y_yes\n",
    "data_scaled = data_scaled.drop(['y_yes'], axis = 1)"
   ]
  },
  {
   "cell_type": "markdown",
   "metadata": {},
   "source": [
    "### Train-Test Data Split"
   ]
  },
  {
   "cell_type": "code",
   "execution_count": 21,
   "metadata": {},
   "outputs": [],
   "source": [
    "X_train, X_test, y_train, y_test = train_test_split(data_scaled, y, test_size=0.2, random_state=42)"
   ]
  },
  {
   "cell_type": "markdown",
   "metadata": {},
   "source": [
    "<a id= \"upsampling\"></a>\n",
    "## 2.4. Upsampling"
   ]
  },
  {
   "cell_type": "code",
   "execution_count": 22,
   "metadata": {},
   "outputs": [],
   "source": [
    "def upSample(X_train, y_train):\n",
    "    df_all = pd.concat((X_train, pd.DataFrame({'value': y_train}, index=y_train.index)), axis=1)\n",
    "    \n",
    "    df_majority = df_all [df_all.value==0]\n",
    "    df_minority = df_all[df_all.value==1]\n",
    "     \n",
    "    # Upsample minority class\n",
    "    df_minority_upsampled = resample(df_minority, \n",
    "                                     replace=True,     # sample with replacement\n",
    "                                     n_samples=df_majority.shape[0],    # to match majority class\n",
    "                                     random_state=123) # reproducible results\n",
    "    # Combine majority class with upsampled minority class\n",
    "    df_upsampled = pd.concat([df_majority, df_minority_upsampled], axis=0)\n",
    "    y_upsampled = df_upsampled.value\n",
    "    X_upsampled = df_upsampled.drop('value', axis=1)\n",
    "\n",
    "    return X_upsampled, y_upsampled"
   ]
  },
  {
   "cell_type": "markdown",
   "metadata": {},
   "source": [
    "#### Veri Ön İşlemede yapılanlar:\n",
    "- Eksik değerler kontrol edildi. Eksik değere rastlanmadığı teyit edildi.\n",
    "- Veri setinde yinelenen değer kontrolü yapıldı, yinelenen değerlere rastlanmadı. Rastlansaydı kopyaları kaldırarak adımlara devam etmeliydi.\n",
    "- Kategorik değişkenler sayısallaştırıldı. One Hot Encoding ile sütunları oluşturmak için get_dummies tarafından sağlanan işlev kullanıldı. Makine öğrenimi için toplamda 37 özellik yaratıldı. (5'i sayısal özellik, 32'i kategorik) özellik\n",
    "- Değişkenler farklı boyutlarda olduğunda makine öğrenimi modellerinde sorunlar olabilir. Bununla mücadele etmek için veriler MinMaxScaler ile ölçeklendirildi. \n",
    "- Veri seti modelimizin görünmeyen veriler üzerinde ne kadar iyi çalışacağını ölçebilmek için eğitim ve test verisine bölündü. (80-20)\n",
    "- Dengesiz sınıflandırmanın önüne geçmek adına Upsampling yöntemi kullanıldı. Sayıca az olan gruptaki veriler sayıca fazla olan gruptaki veri sayısı kadar artırıldı. Bu işlem için sklearn.utils kütüphanesinden resample fonksiyonu kullanıldı ve Resample fonksiyonu ile az sayıdaki hesap açmama kararı veren gözlemler klonlarak çoğaltıldı."
   ]
  },
  {
   "cell_type": "markdown",
   "metadata": {},
   "source": [
    "<a id= \"modeling\"></a>\n",
    "# 3. Modeling (Linear, Non-Linear Modeling and Tuning)"
   ]
  },
  {
   "cell_type": "markdown",
   "metadata": {},
   "source": [
    "<a id= \"base\"></a>\n",
    "## 3.1. Base Models"
   ]
  },
  {
   "cell_type": "markdown",
   "metadata": {},
   "source": [
    "### 1. Logistic Regression"
   ]
  },
  {
   "cell_type": "code",
   "execution_count": 23,
   "metadata": {},
   "outputs": [
    {
     "name": "stdout",
     "output_type": "stream",
     "text": [
      "Logistic Regression \n",
      "\n",
      "Classification Report \n",
      "\n",
      "              precision    recall  f1-score   support\n",
      "\n",
      "         0.0       0.99      0.87      0.93      7424\n",
      "         1.0       0.35      0.88      0.50       576\n",
      "\n",
      "    accuracy                           0.87      8000\n",
      "   macro avg       0.67      0.87      0.71      8000\n",
      "weighted avg       0.94      0.87      0.90      8000\n",
      "\n"
     ]
    }
   ],
   "source": [
    "X_train,y_train=upSample(X_train, y_train)\n",
    "lr = LogisticRegression(random_state = 42)\n",
    "lr.fit(X_train,y_train)\n",
    "prediction = lr.predict(X_test)\n",
    "print(\"Logistic Regression\",\"\\n\")\n",
    "print(\"Classification Report\",\"\\n\")\n",
    "print(classification_report(y_test, prediction))"
   ]
  },
  {
   "cell_type": "markdown",
   "metadata": {},
   "source": [
    "#### Confusion Matrix"
   ]
  },
  {
   "cell_type": "code",
   "execution_count": 24,
   "metadata": {},
   "outputs": [
    {
     "name": "stdout",
     "output_type": "stream",
     "text": [
      "Confusion Matrix \n",
      "\n"
     ]
    },
    {
     "data": {
      "image/png": "[encoded data removed]",
      "text/plain": [
       "<Figure size 432x288 with 2 Axes>"
      ]
     },
     "metadata": {
      "needs_background": "light"
     },
     "output_type": "display_data"
    },
    {
     "name": "stdout",
     "output_type": "stream",
     "text": [
      "\n",
      "\n"
     ]
    }
   ],
   "source": [
    "print(\"Confusion Matrix\",\"\\n\")\n",
    "score = round(accuracy_score(y_test, prediction),3) \n",
    "cm1 = cm(y_test, prediction)\n",
    "sns.heatmap(cm1, annot=True, fmt=\".1f\", linewidths=.3, \n",
    "        square = True, cmap = 'PuBu')\n",
    "plt.ylabel('Actual label')\n",
    "plt.xlabel('Predicted label')\n",
    "plt.title('Accuracy Score: {0}'.format(score), size = 12)\n",
    "plt.show()\n",
    "print(\"\\n\")"
   ]
  },
  {
   "cell_type": "markdown",
   "metadata": {},
   "source": [
    "#### Feature Selection"
   ]
  },
  {
   "cell_type": "code",
   "execution_count": 25,
   "metadata": {},
   "outputs": [
    {
     "name": "stdout",
     "output_type": "stream",
     "text": [
      "Feature Selection \n",
      "\n",
      "Index(['balance', 'duration', 'campaign', 'contact_unknown', 'month_aug',\n",
      "       'month_dec', 'month_jan', 'month_jul', 'month_mar', 'month_oct'],\n",
      "      dtype='object') \n",
      "\n"
     ]
    }
   ],
   "source": [
    "rfe=RFE(lr,10)\n",
    "rfe=rfe.fit(X_train,y_train)\n",
    "print(\"Feature Selection\",\"\\n\")\n",
    "print(X_train[X_train.columns[rfe.ranking_==1].values].columns,\"\\n\")"
   ]
  },
  {
   "cell_type": "markdown",
   "metadata": {},
   "source": [
    "#### Cross Validation"
   ]
  },
  {
   "cell_type": "code",
   "execution_count": 26,
   "metadata": {},
   "outputs": [
    {
     "name": "stdout",
     "output_type": "stream",
     "text": [
      "Accuracy (mean): % 86.4605795148248\n",
      "std: % 0.21962383406647165\n"
     ]
    }
   ],
   "source": [
    "accuracies = cross_val_score(estimator = lr, X = X_train, y = y_train, cv = 5)\n",
    "print(\"Accuracy (mean): %\",accuracies.mean()*100)\n",
    "print(\"std: %\",accuracies.std()*100)"
   ]
  },
  {
   "cell_type": "code",
   "execution_count": 27,
   "metadata": {},
   "outputs": [
    {
     "name": "stdout",
     "output_type": "stream",
     "text": [
      "MAE (mean): % -0.135394204851752\n"
     ]
    }
   ],
   "source": [
    "scores = cross_val_score(lr, X_train, y_train, scoring='neg_mean_absolute_error', cv=5,)\n",
    "print (\"MAE (mean): %\" , scores.mean())"
   ]
  },
  {
   "cell_type": "markdown",
   "metadata": {},
   "source": [
    "#### Errors"
   ]
  },
  {
   "cell_type": "code",
   "execution_count": 28,
   "metadata": {},
   "outputs": [
    {
     "name": "stdout",
     "output_type": "stream",
     "text": [
      "Mean Absolute Error (MAE): 0.13\n",
      "Mean Squared Error (MSE): 0.13\n",
      "Root Mean Squared Error (RMSE): 0.36\n"
     ]
    }
   ],
   "source": [
    "mae = mean_absolute_error(lr.predict(X_test), y_test)\n",
    "mse = mean_squared_error(lr.predict(X_test), y_test)\n",
    "rmse = np.sqrt(mse)\n",
    "print('Mean Absolute Error (MAE): %.2f' % mae)\n",
    "print('Mean Squared Error (MSE): %.2f' % mse)\n",
    "print('Root Mean Squared Error (RMSE): %.2f' % rmse)"
   ]
  },
  {
   "cell_type": "markdown",
   "metadata": {},
   "source": [
    "#### Cohen - Matthew Score"
   ]
  },
  {
   "cell_type": "code",
   "execution_count": 29,
   "metadata": {},
   "outputs": [
    {
     "name": "stdout",
     "output_type": "stream",
     "text": [
      "Cohen Score 0.4375148022420462\n",
      "Matthew Score 0.499832797345127\n"
     ]
    }
   ],
   "source": [
    "print(\"Cohen Score\",cohen_kappa_score(y_test, prediction))\n",
    "print(\"Matthew Score\",matthews_corrcoef(y_test, prediction))"
   ]
  },
  {
   "cell_type": "markdown",
   "metadata": {},
   "source": [
    "#### Logistic Regression Yorumu:\n",
    "- Lojistik regresyon, bir sonucu belirleyen bir veya daha fazla bağımsız değişken bulunan bir veri kümesini analiz etmek için kullanılan istatistiksel bir yöntemdir.\n",
    "- Doğruluk ve Confusion Matrix: Lojistik regresyon modeli uygulandığında **Doğruluk Skoru %87.2** olarak bulundu. Veri setinin dengesiz dağılımı dolayısıyla doğruluk skoru yanlış yorumlara sebep olabilir. Bunun yerine Precision, Recall ve F1-skorlarına bakıldığında bununda yetersiz olduğu görüldü.\n",
    "\n",
    "- Model Hata Oranları :\n",
    " - Mean Absolute Error (MAE): 0.13\n",
    " - Mean Squared Error (MSE): 0.13\n",
    " - Root Mean Squared Error (RMSE): 0.36\n",
    "- Model Değerlendirme:\n",
    " - Cohen Kappa Score: İki değerleyici arasındaki karşılaştırmalı uyuşmanın güvenirliğini ölçen bir istatistik yöntemidir. Lojistik Regresyon modelinde y_test ve y_prediction değerleri için **Cohen Kappa Katsayısı: 0.437** olarak hesaplanıldı. 0.41- 0.60 arasında olduğu için gerçek değerler ile sınıflandırıcının verdiği kararların arasında **ekseriyetle uyuşma** olduğu görülmektedir.\n",
    " - Matthews Korelasyon Katsayısı: İkili sınıflandırma modelleri için doğruluk (Accuracy) oranı değerine göre MCC ölçütü daha güvenilir ve doğru sonuçlar vermektedir. MMC, -1 ile +1 arasında bir değer döndürür. +1 katsayısı mükemmel bir tahmini temsil eder, 0 rastgele tahminden daha iyi değildir ve −1, tahmin ve gözlem arasındaki toplam anlaşmazlığı gösterir. Modelde y_test ve y_prediction değerleri için **Matthews Korelasyon Katsayısı: 0.499** olarak hesaplanıldı."
   ]
  },
  {
   "cell_type": "markdown",
   "metadata": {},
   "source": [
    "### 2. K Nearest Neighbors"
   ]
  },
  {
   "cell_type": "code",
   "execution_count": 32,
   "metadata": {},
   "outputs": [
    {
     "name": "stdout",
     "output_type": "stream",
     "text": [
      "KNN Algorithm\n",
      "Classification Report\n",
      "              precision    recall  f1-score   support\n",
      "\n",
      "         0.0       0.97      0.81      0.88      7424\n",
      "         1.0       0.21      0.65      0.32       576\n",
      "\n",
      "    accuracy                           0.80      8000\n",
      "   macro avg       0.59      0.73      0.60      8000\n",
      "weighted avg       0.91      0.80      0.84      8000\n",
      "\n"
     ]
    }
   ],
   "source": [
    "classifier = KNeighborsClassifier(n_neighbors=100,weights=\"distance\")  \n",
    "classifier.fit(X_train, y_train)  \n",
    "y_pred = classifier.predict(X_test)  \n",
    "\n",
    "print(\"KNN Algorithm\")\n",
    "print(\"Classification Report\")\n",
    "print(classification_report(y_test, y_pred))"
   ]
  },
  {
   "cell_type": "code",
   "execution_count": 33,
   "metadata": {},
   "outputs": [
    {
     "name": "stdout",
     "output_type": "stream",
     "text": [
      "Confusion Matrix \n",
      "\n"
     ]
    },
    {
     "data": {
      "image/png": "[encoded data removed]",
      "text/plain": [
       "<Figure size 432x288 with 2 Axes>"
      ]
     },
     "metadata": {
      "needs_background": "light"
     },
     "output_type": "display_data"
    },
    {
     "name": "stdout",
     "output_type": "stream",
     "text": [
      "\n",
      "\n"
     ]
    }
   ],
   "source": [
    "print(\"Confusion Matrix\",\"\\n\")\n",
    "score = round(accuracy_score(y_test, y_pred),3) \n",
    "cm1 = cm(y_test, y_pred)\n",
    "sns.heatmap(cm1, annot=True, fmt=\".1f\", linewidths=.3, \n",
    "        square = True, cmap = 'PuBu')\n",
    "plt.ylabel('Actual label')\n",
    "plt.xlabel('Predicted label')\n",
    "plt.title('Accuracy Score: {0}'.format(score), size = 12)\n",
    "plt.show()\n",
    "print(\"\\n\")"
   ]
  },
  {
   "cell_type": "code",
   "execution_count": 34,
   "metadata": {},
   "outputs": [
    {
     "name": "stdout",
     "output_type": "stream",
     "text": [
      "Accuracy (mean): % 90.02863881401618\n",
      "std: % 0.29485463678702595\n",
      "MAE (mean): % -0.09971361185983828\n",
      "\n",
      "\n"
     ]
    }
   ],
   "source": [
    "accuracies = cross_val_score(estimator = classifier, X = X_train, y = y_train, cv = 5)\n",
    "print(\"Accuracy (mean): %\",accuracies.mean()*100)\n",
    "print(\"std: %\",accuracies.std()*100)\n",
    "\n",
    "scores = cross_val_score(classifier, X_train, y_train, scoring='neg_mean_absolute_error', cv=5,)\n",
    "print (\"MAE (mean): %\" , scores.mean())\n",
    "print(\"\\n\")"
   ]
  },
  {
   "cell_type": "code",
   "execution_count": 35,
   "metadata": {},
   "outputs": [
    {
     "name": "stdout",
     "output_type": "stream",
     "text": [
      "Mean Absolute Error (MAE): 0.20\n",
      "Mean Squared Error (MSE): 0.20\n",
      "Root Mean Squared Error (RMSE): 0.45\n",
      "\n",
      "\n"
     ]
    }
   ],
   "source": [
    "mae = mean_absolute_error(classifier.predict(X_test), y_test)\n",
    "mse = mean_squared_error(classifier.predict(X_test), y_test)\n",
    "rmse = np.sqrt(mse)\n",
    "print('Mean Absolute Error (MAE): %.2f' % mae)\n",
    "print('Mean Squared Error (MSE): %.2f' % mse)\n",
    "print('Root Mean Squared Error (RMSE): %.2f' % rmse)\n",
    "print(\"\\n\")"
   ]
  },
  {
   "cell_type": "code",
   "execution_count": 36,
   "metadata": {},
   "outputs": [
    {
     "name": "stdout",
     "output_type": "stream",
     "text": [
      "Cohen Score 0.2330239467495413\n",
      "Matthew Score 0.2848446656902299\n"
     ]
    }
   ],
   "source": [
    "print(\"Cohen Score\",cohen_kappa_score(y_test, y_pred))\n",
    "print(\"Matthew Score\",matthews_corrcoef(y_test, y_pred))"
   ]
  },
  {
   "cell_type": "markdown",
   "metadata": {},
   "source": [
    "#### K Nearest Neighbors Yorumu:\n",
    "- Knn algoritması (sınıf niteliği belli olan) elemanların meydana getirdiği uzaya yeni bir örnek (sınıf niteliği belli olmayan) eklendiğinde bu örneğin kendisine en yakın olan sınıfa dahil edilmesi gerektiğini kararlaştıran bir algoritmadır. Kendisine en yakın olan sınıfı belirlemek için bir k değişkeni kullanmaktadır.\n",
    "- Doğruluk ve Confusion Matrix: En yakın komşu modeli uygulandığında **Doğruluk Skoru %79.8** olarak bulundu. Veri setinin dengesiz dağılımı dolayısıyla doğruluk skoru yanlış yorumlara sebep olabilir. Bunun yerine Precision, Recall ve F1-skorlarına bakıldığında bununda yetersiz olduğu görüldü.\n",
    "- Cross Validation: Bir sonraki aşamada modelin farklı veri setlerindeki performansını görmek üzere Cross Validation metodu uygulanmış ve Cross Validation ile 5 iterasyonda elde edilen sonuçlar aşağıda belirtilmiştir.\n",
    " - Ortalama Doğruluk Skoru : 90.02\n",
    " - Doğruluk Skoru Standart Sapması : 0.29\n",
    " - Ortalama Mean Square Error : 0.09\n",
    "- Model Hata Oranları :\n",
    " - Mean Absolute Error (MAE): 0.20\n",
    " - Mean Squared Error (MSE): 0.20\n",
    " - Root Mean Squared Error (RMSE): 0.45\n",
    "- Model Değerlendirme:\n",
    " - Cohen Kappa Score: İki değerleyici arasındaki karşılaştırmalı uyuşmanın güvenirliğini ölçen bir istatistik yöntemidir. Lojistik Regresyon modelinde y_test ve y_prediction değerleri için **Cohen Kappa Katsayısı: 0.233** olarak hesaplanıldı. 0.21 — 0.40 arasında olduğu için gerçek değerler ile sınıflandırıcının verdiği kararların arasında **orta derecede uyuşma** olduğu görülmektedir.\n",
    " - Matthews Korelasyon Katsayısı: İkili sınıflandırma modelleri için doğruluk (Accuracy) oranı değerine göre MCC ölçütü daha güvenilir ve doğru sonuçlar vermektedir. MMC, -1 ile +1 arasında bir değer döndürür. +1 katsayısı mükemmel bir tahmini temsil eder, 0 rastgele tahminden daha iyi değildir ve −1, tahmin ve gözlem arasındaki toplam anlaşmazlığı gösterir. Modelde y_test ve y_prediction değerleri için **Matthews Korelasyon Katsayısı: 0.284** olarak hesaplanıldı. Sınıflandırıcının rasgele bir tahmin sınıflandırıcısına çok yakın olduğu anlamına gelir."
   ]
  },
  {
   "cell_type": "markdown",
   "metadata": {},
   "source": [
    "### 3. Random Forest"
   ]
  },
  {
   "cell_type": "code",
   "execution_count": 37,
   "metadata": {},
   "outputs": [
    {
     "name": "stdout",
     "output_type": "stream",
     "text": [
      "Random Forest Algorithm \n",
      "\n",
      "Classification Report \n",
      "\n",
      "              precision    recall  f1-score   support\n",
      "\n",
      "         0.0       0.99      0.85      0.91      7424\n",
      "         1.0       0.31      0.84      0.45       576\n",
      "\n",
      "    accuracy                           0.85      8000\n",
      "   macro avg       0.65      0.85      0.68      8000\n",
      "weighted avg       0.94      0.85      0.88      8000\n",
      "\n"
     ]
    }
   ],
   "source": [
    "rf = RandomForestClassifier(n_estimators=10 ,n_jobs=-1,\n",
    "                            random_state=42, \n",
    "                            max_depth= 5\n",
    "                           # class_weight=\"balanced\",\n",
    "                            #max_features=10)\n",
    "                            )\n",
    "\n",
    "rf.fit(X_train, y_train)\n",
    "rf_predict = rf.predict(X_test)\n",
    "print(\"Random Forest Algorithm\",\"\\n\")\n",
    "print(\"Classification Report\",\"\\n\")\n",
    "print(classification_report(y_test, rf_predict))"
   ]
  },
  {
   "cell_type": "code",
   "execution_count": 38,
   "metadata": {},
   "outputs": [
    {
     "name": "stdout",
     "output_type": "stream",
     "text": [
      "Confusion Matrix \n",
      "\n"
     ]
    },
    {
     "data": {
      "image/png": "[encoded data removed]",
      "text/plain": [
       "<Figure size 432x288 with 2 Axes>"
      ]
     },
     "metadata": {
      "needs_background": "light"
     },
     "output_type": "display_data"
    },
    {
     "name": "stdout",
     "output_type": "stream",
     "text": [
      "\n",
      "\n"
     ]
    }
   ],
   "source": [
    "print(\"Confusion Matrix\",\"\\n\")\n",
    "score = round(accuracy_score(y_test, rf_predict),3)\n",
    "cm1 = cm(y_test, rf_predict)\n",
    "sns.heatmap(cm1, annot=True, fmt=\".1f\", linewidths=.3, \n",
    "            square = True, cmap = 'PuBu')\n",
    "plt.ylabel('Actual label')\n",
    "plt.xlabel('Predicted label')\n",
    "plt.title('Accuracy Score: {0}'.format(score), size = 12)\n",
    "plt.show()\n",
    "print(\"\\n\")"
   ]
  },
  {
   "cell_type": "code",
   "execution_count": 39,
   "metadata": {},
   "outputs": [
    {
     "name": "stdout",
     "output_type": "stream",
     "text": [
      "Accuracy (mean): % 84.09029649595688\n",
      "std: % 0.5309250398922757\n",
      "MAE (mean): % -0.15909703504043127\n",
      "\n",
      "\n"
     ]
    }
   ],
   "source": [
    "accuracies = cross_val_score(estimator = rf, X = X_train, y = y_train, cv = 5)\n",
    "print(\"Accuracy (mean): %\",accuracies.mean()*100)\n",
    "print(\"std: %\",accuracies.std()*100)\n",
    "\n",
    "scores = cross_val_score(rf, X_train, y_train, scoring='neg_mean_absolute_error', cv=5,)\n",
    "print (\"MAE (mean): %\" , scores.mean())\n",
    "print(\"\\n\")"
   ]
  },
  {
   "cell_type": "code",
   "execution_count": 40,
   "metadata": {},
   "outputs": [
    {
     "name": "stdout",
     "output_type": "stream",
     "text": [
      "Mean Absolute Error (MAE): 0.15\n",
      "Mean Squared Error (MSE): 0.15\n",
      "Root Mean Squared Error (RMSE): 0.38\n",
      "\n",
      "\n"
     ]
    }
   ],
   "source": [
    "mae = mean_absolute_error(rf.predict(X_test), y_test)\n",
    "mse = mean_squared_error(rf.predict(X_test), y_test)\n",
    "rmse = np.sqrt(mse)\n",
    "print('Mean Absolute Error (MAE): %.2f' % mae)\n",
    "print('Mean Squared Error (MSE): %.2f' % mse)\n",
    "print('Root Mean Squared Error (RMSE): %.2f' % rmse)\n",
    "print(\"\\n\")\n"
   ]
  },
  {
   "cell_type": "code",
   "execution_count": 41,
   "metadata": {},
   "outputs": [
    {
     "name": "stdout",
     "output_type": "stream",
     "text": [
      "Cohen Score 0.3857455584678843\n",
      "Matthew Score 0.4515255535811044\n",
      "\n",
      "\n"
     ]
    }
   ],
   "source": [
    "print(\"Cohen Score\",cohen_kappa_score(y_test, rf_predict))\n",
    "print(\"Matthew Score\",matthews_corrcoef(y_test, rf_predict))\n",
    "print(\"\\n\")"
   ]
  },
  {
   "cell_type": "code",
   "execution_count": 43,
   "metadata": {},
   "outputs": [
    {
     "data": {
      "image/png": "[encoded data removed]",
      "text/plain": [
       "<Figure size 432x288 with 1 Axes>"
      ]
     },
     "metadata": {
      "needs_background": "light"
     },
     "output_type": "display_data"
    }
   ],
   "source": [
    "ranking = rf.feature_importances_\n",
    "features = np.argsort(ranking)[::-1][:10]\n",
    "columns = data_scaled.columns\n",
    "plt.title(\"Feature importances based on Random Forest Regressor\", y = 1.03, size = 18)\n",
    "plt.bar(range(len(features)), ranking[features], color=\"aqua\", align=\"center\")\n",
    "plt.xticks(range(len(features)), columns[features], rotation=80)\n",
    "plt.show()"
   ]
  },
  {
   "cell_type": "markdown",
   "metadata": {},
   "source": [
    "#### Random Forest Yorumu:\n",
    "- Rastgele Orman, hiperparametre ayarı yapmadan bile, çoğu zaman büyük bir sonuç üreten, esnek, kullanımı kolay bir makine öğrenmesi algoritmasıdır. Aynı zamanda en çok kullanılan algoritmalardan biridir, çünkü hem basitlik hem de sınıflandırma ve regresyon görevleri için kullanılabilir.\n",
    "- Doğruluk ve Confusion Matrix: En yakın komşu modeli uygulandığında **Doğruluk Skoru %85.2** olarak bulundu. Veri setinin dengesiz dağılımı dolayısıyla doğruluk skoru yanlış yorumlara sebep olabilir. Bunun yerine Precision, Recall ve F1-skorlarına bakıldığında bununda yetersiz olduğu görüldü.\n",
    "- Cross Validation: Bir sonraki aşamada modelin farklı veri setlerindeki performansını görmek üzere Cross Validation metodu uygulanmış ve Cross Validation ile 5 iterasyonda elde edilen sonuçlar aşağıda belirtilmiştir.\n",
    " - Ortalama Doğruluk Skoru : 84.09\n",
    " - Doğruluk Skoru Standart Sapması : 0.53\n",
    " - Ortalama Mean Square Error : 0.15\n",
    "- Model Hata Oranları :\n",
    " - Mean Absolute Error (MAE): 0.15\n",
    " - Mean Squared Error (MSE): 0.15\n",
    " - Root Mean Squared Error (RMSE): 0.38\n",
    "- Model Değerlendirme:\n",
    " - Cohen Kappa Score: İki değerleyici arasındaki karşılaştırmalı uyuşmanın güvenirliğini ölçen bir istatistik yöntemidir. Lojistik Regresyon modelinde y_test ve y_prediction değerleri için **Cohen Kappa Katsayısı: 0.385** olarak hesaplanıldı. 0.21 — 0.40 arasında olduğu için gerçek değerler ile sınıflandırıcının verdiği kararların arasında **orta derecede uyuşma** olduğu görülmektedir.\n",
    " - Matthews Korelasyon Katsayısı: İkili sınıflandırma modelleri için doğruluk (Accuracy) oranı değerine göre MCC ölçütü daha güvenilir ve doğru sonuçlar vermektedir. MMC, -1 ile +1 arasında bir değer döndürür. +1 katsayısı mükemmel bir tahmini temsil eder, 0 rastgele tahminden daha iyi değildir ve −1, tahmin ve gözlem arasındaki toplam anlaşmazlığı gösterir. Modelde y_test ve y_prediction değerleri için **Matthews Korelasyon Katsayısı: 0.451** olarak hesaplanıldı. "
   ]
  },
  {
   "cell_type": "markdown",
   "metadata": {},
   "source": [
    "<a id=\"compare\"></a>\n",
    "## 3.2. Comparison of Final Models"
   ]
  },
  {
   "cell_type": "code",
   "execution_count": 7,
   "metadata": {},
   "outputs": [
    {
     "data": {
      "image/png": "[encoded data removed]",
      "text/plain": [
       "<IPython.core.display.Image object>"
      ]
     },
     "execution_count": 7,
     "metadata": {
      "image/png": {
       "height": 600,
       "width": 900
      }
     },
     "output_type": "execute_result"
    }
   ],
   "source": [
    "Image(filename = \"compare.png\", width = 900, height = 600)"
   ]
  },
  {
   "cell_type": "markdown",
   "metadata": {},
   "source": [
    "<a id=\"reporting\"></a>\n",
    "# 4. Reporting"
   ]
  },
  {
   "cell_type": "markdown",
   "metadata": {},
   "source": [
    "- Vadeli hesap açma tahminlemesi için 3 farklı sınıflandırma algoritması üzerinde çalışma yapılmış ve Lojistik Regresyon diğer algoritmalardan daha iyi bir performans gösterdiği tespit edilmiştir.\n",
    "\n",
    "- Hedef değişkeni dengesiz bir dağılıma sahip olduğu için sadece accuracy değerine değil 3 farklı model performans değeri de incelenmiştir. Lojistik regresyon modeli;\n",
    " -  En düşük Ortalama Hata Kare değerine sahiptir ve en düşük hata ile hedef değişkeni tahmin edebilmektedir.\n",
    " - En yüksek Cohen Kappa skor değerine sahiptir. Modelin doğruluk değeri ile beklenen doğruluk değerini karşılaştırmaktadır. Bu karşılaştırma sonucunda model tahmin doğruluğunun rastgele olmadığını en yüksek değer ile göstermektedir.\n",
    " -  En yüksek Matthew skor değerine sahiptir. Model tahminlerinin niteliği en yüksektir.\n",
    " - En yüksek model tahmin doğruluğuna sahiptir.\n",
    " - Hedef değişkeni olan vadeli hesap açan kullanıcıları daha yüksek oranda tahmin etmektedir.\n",
    " - Hedef değişkeni olan vadeli hesap açacak kullanıcılar olarak etiketlenen kullanıcıların gerçekten açan kullanıcı olarak tahmin edilme oranı daha yüksektir"
   ]
  },
  {
   "cell_type": "markdown",
   "metadata": {},
   "source": [
    "<a id=\"resources\"></a>\n",
    "# 5. Resources"
   ]
  },
  {
   "cell_type": "markdown",
   "metadata": {},
   "source": [
    "1. https://tr.wikipedia.org/wiki/Cohen%27in_kappa_katsay%C4%B1s%C4%B1\n",
    "2. https://medium.com/swlh/using-machine-learning-to-predict-subscription-to-bank-term-deposits-for-clients-with-python-aec8a4690807\n",
    "3. https://medium.com/@gulcanogundur/python-ile-s%C4%B1n%C4%B1fland%C4%B1rma-algoritmalar%C4%B1-74797c9c98a9\n",
    "4. http://www.bioinfopublication.org/files/articles/2_1_1_JMLT.pdf\n",
    "5. https://ichi.pro/tr/post/53924330618750\n",
    "6. https://www.linkedin.com/pulse/confusion-matrix-raghavi-adoni/\n",
    "7. https://en.wikipedia.org/wiki/Matthews_correlation_coefficient"
   ]
  }
 ],
 "metadata": {
  "kernelspec": {
   "display_name": "Python 3",
   "language": "python",
   "name": "python3"
  },
  "language_info": {
   "codemirror_mode": {
    "name": "ipython",
    "version": 3
   },
   "file_extension": ".py",
   "mimetype": "text/x-python",
   "name": "python",
   "nbconvert_exporter": "python",
   "pygments_lexer": "ipython3",
   "version": "3.7.4"
  }
 },
 "nbformat": 4,
 "nbformat_minor": 4
}
